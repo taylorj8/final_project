{
 "cells": [
  {
   "cell_type": "markdown",
   "metadata": {},
   "source": [
    "### Crop and Save Images"
   ]
  },
  {
   "cell_type": "code",
   "execution_count": null,
   "metadata": {},
   "outputs": [],
   "source": [
    "import os\n",
    "import cv2\n",
    "import numpy as np\n",
    "from typing import List\n",
    "from tqdm import tqdm\n",
    "from ipynb.fs.full.FinalProject import detect_circles, crop_to_circle\n",
    "\n",
    "\n",
    "\n",
    "def save_to_file(imgs: List[np.ndarray], label: str, num: int):\n",
    "    if not os.path.exists(f\"data/processed/{label}\"):\n",
    "            os.makedirs(f\"data/processed/{label}\")\n",
    "            \n",
    "    for i, img in enumerate(imgs):\n",
    "        if img is None or min(img.shape) < 48:\n",
    "            continue\n",
    "        \n",
    "        path = os.path.join(\"data\", \"processed\", label, f\"image{i}-{num}.jpg\")\n",
    "        cv2.imwrite(path, img)\n",
    "\n",
    "\n",
    "images_with_labels = list(enumerate(zip(train_images, train_labels)))\n",
    "for i, (img, label) in tqdm(images_with_labels):\n",
    "    circles = detect_circles(img, max=5)\n",
    "    cis = crop_to_circle(img, circles)\n",
    "    save_to_file(cis, label, i)"
   ]
  },
  {
   "cell_type": "markdown",
   "metadata": {},
   "source": [
    "### Swap Numbers"
   ]
  },
  {
   "cell_type": "code",
   "execution_count": null,
   "metadata": {},
   "outputs": [],
   "source": [
    "import os\n",
    "import re\n",
    "\n",
    "def rename_files(folder: str):\n",
    "    # Regular expression to match the file names\n",
    "    pattern = re.compile(r'image(\\d+)-(\\d+)\\.jpg')\n",
    "    \n",
    "    for filename in os.listdir(folder):\n",
    "        match = pattern.match(filename)\n",
    "        if match:\n",
    "            x, y = match.groups()\n",
    "            new_filename = f'image{y}-{x}.jpg'\n",
    "            old_path = os.path.join(folder, filename)\n",
    "            new_path = os.path.join(folder, new_filename)\n",
    "            os.rename(old_path, new_path)\n",
    "            print(f'Renamed: {filename} -> {new_filename}')\n",
    "\n",
    "# Example usage\n",
    "rename_files('data/ball/billiard_ball')"
   ]
  },
  {
   "cell_type": "markdown",
   "metadata": {},
   "source": [
    "### Remove Ball Images"
   ]
  },
  {
   "cell_type": "code",
   "execution_count": null,
   "metadata": {},
   "outputs": [],
   "source": [
    "import os\n",
    "\n",
    "def remove_matching_files(folder1: str, folder2: str):\n",
    "    subfolders = os.listdir(folder2)\n",
    "    \n",
    "    for subfolder in subfolders:\n",
    "        path1 = os.path.join(folder1, subfolder)\n",
    "        path2 = os.path.join(folder2, subfolder)\n",
    "        \n",
    "        if os.path.exists(path1) and os.path.exists(path2):\n",
    "            files1 = set(os.listdir(path1))\n",
    "            files2 = set(os.listdir(path2))\n",
    "            \n",
    "            matching_files = files1.intersection(files2)\n",
    "            \n",
    "            for file in matching_files:\n",
    "                file_path = os.path.join(path2, file)\n",
    "                os.remove(file_path)\n",
    "                print(f'Removed: {file_path}')\n",
    "\n",
    "# Example usage\n",
    "remove_matching_files('data/ball', 'data/processed')"
   ]
  }
 ],
 "metadata": {
  "language_info": {
   "name": "python"
  }
 },
 "nbformat": 4,
 "nbformat_minor": 2
}
