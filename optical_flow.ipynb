{
 "cells": [
  {
   "cell_type": "markdown",
   "metadata": {},
   "source": [
    "### Optical Flow"
   ]
  },
  {
   "cell_type": "code",
   "execution_count": null,
   "metadata": {},
   "outputs": [],
   "source": [
    "import cv2\n",
    "import numpy as np\n",
    "\n",
    "# Load the video\n",
    "video_path = 'data/optical_flow/Soccer_Ball_Kick.mp4'\n",
    "cap = cv2.VideoCapture(video_path)\n",
    "\n",
    "# Check if the video was opened successfully\n",
    "if not cap.isOpened():\n",
    "    print(\"Error: Could not open video.\")\n",
    "    exit()\n",
    "\n",
    "# Read the first frame\n",
    "ret, frame1 = cap.read()\n",
    "if not ret:\n",
    "    print(\"Error: Could not read the first frame.\")\n",
    "    exit()\n",
    "\n",
    "# Convert the first frame to greyscale\n",
    "prev_grey = cv2.cvtColor(frame1, cv2.COLOR_BGR2GRAY)\n",
    "\n",
    "# Create a mask image for drawing purposes\n",
    "hsv_mask = np.zeros_like(frame1)\n",
    "hsv_mask[..., 1] = 255\n",
    "\n",
    "\n",
    "while True:\n",
    "    # Read the next frame\n",
    "    ret, frame2 = cap.read()\n",
    "    if not ret:\n",
    "        break\n",
    "\n",
    "    # Convert the frame to greyscale\n",
    "    grey = cv2.cvtColor(frame2, cv2.COLOR_BGR2GRAY)\n",
    "\n",
    "    # Compute the dense optical flow using the Farneback method\n",
    "    flow = cv2.calcOpticalFlowFarneback(prev_grey, grey, None, 0.5, 3, 15, 3, 5, 1.2, 0)\n",
    "\n",
    "    # Compute the magnitude and angle of the flow vectors\n",
    "    magnitude, angle = cv2.cartToPolar(flow[..., 0], flow[..., 1])\n",
    "\n",
    "    # Set the hue according to the optical flow direction\n",
    "    hsv_mask[..., 0] = angle * 180 / np.pi / 2\n",
    "\n",
    "    # Set the value according to the optical flow magnitude (normalized)\n",
    "    hsv_mask[..., 2] = cv2.normalize(magnitude, None, 0, 255, cv2.NORM_MINMAX)\n",
    "\n",
    "    # Convert HSV mask to BGR\n",
    "    bgr_mask = cv2.cvtColor(hsv_mask, cv2.COLOR_HSV2BGR)\n",
    "\n",
    "    # Overlay the original frame with the optical flow visualization\n",
    "    output = cv2.addWeighted(frame2, 1, bgr_mask, 2, 0)\n",
    "\n",
    "    # Display the result\n",
    "    cv2.imshow('Optical Flow', cv2.resize(output, (1280, 720)))\n",
    "\n",
    "    # Update the previous frame \n",
    "    prev_grey = grey\n",
    "\n",
    "    # Exit if the user presses the 'q' key\n",
    "    if cv2.waitKey(1) & 0xFF == ord('q'):\n",
    "        break\n",
    "\n",
    "# Release the video capture object and close all OpenCV windows\n",
    "cap.release()\n",
    "cv2.destroyAllWindows()"
   ]
  }
 ],
 "metadata": {
  "kernelspec": {
   "display_name": "Python 3",
   "language": "python",
   "name": "python3"
  },
  "language_info": {
   "codemirror_mode": {
    "name": "ipython",
    "version": 3
   },
   "file_extension": ".py",
   "mimetype": "text/x-python",
   "name": "python",
   "nbconvert_exporter": "python",
   "pygments_lexer": "ipython3",
   "version": "3.12.6"
  }
 },
 "nbformat": 4,
 "nbformat_minor": 2
}
